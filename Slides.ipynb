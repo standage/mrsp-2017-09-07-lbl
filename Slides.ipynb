{
 "cells": [
  {
   "cell_type": "markdown",
   "metadata": {
    "slideshow": {
     "slide_type": "slide"
    }
   },
   "source": [
    "# Introduction"
   ]
  },
  {
   "cell_type": "markdown",
   "metadata": {
    "slideshow": {
     "slide_type": "subslide"
    }
   },
   "source": [
    "## Science becoming increasingly computational\n",
    "\n",
    "- Modeling\n",
    "- Simulation\n",
    "- Data analysis\n",
    "- Data management"
   ]
  },
  {
   "cell_type": "markdown",
   "metadata": {
    "slideshow": {
     "slide_type": "subslide"
    }
   },
   "source": [
    "## Research software is more than just code\n",
    "\n",
    "<img src=\"fig/research-software.png\" alt=\"Research software\" style=\"width: 12em; float: right;\" />\n",
    "\n",
    "- Data\n",
    "- Organization\n",
    "- Communication\n",
    "- Process"
   ]
  },
  {
   "cell_type": "markdown",
   "metadata": {
    "slideshow": {
     "slide_type": "subslide"
    }
   },
   "source": [
    "## Key features of research software projects\n",
    "\n",
    "<center><img src=\"fig/softwaredevelopment.jpg\" alt=\"Pair programming\" style=\"width: 12em; margin: 1em auto 0 auto\" /></center>\n",
    "\n",
    "- Developers (scientists first, THEN programmers)\n",
    "- Problems (subtle, complicated, important)\n",
    "- Requirements (exploring vs. engineering)"
   ]
  },
  {
   "cell_type": "markdown",
   "metadata": {
    "slideshow": {
     "slide_type": "subslide"
    }
   },
   "source": [
    "## Research software training gap\n",
    "\n",
    "- Little formal training in software for most scientists\n",
    "- Existing materials focused mostly on professional programmers\n",
    "- You've probably picked up some software engineering principles\n",
    "    - But you're probably missing some\n",
    "    - And you might not be clear on motivations"
   ]
  },
  {
   "cell_type": "markdown",
   "metadata": {
    "slideshow": {
     "slide_type": "subslide"
    }
   },
   "source": [
    "## A quick survey\n",
    "\n",
    "- Development branches (version control)\n",
    "- Unit testing\n",
    "- Test-driven development\n",
    "- Continuous integration"
   ]
  },
  {
   "cell_type": "markdown",
   "metadata": {
    "slideshow": {
     "slide_type": "subslide"
    }
   },
   "source": [
    "## End game\n",
    "\n",
    "- Software can be used by others\n",
    "- Reasonable confidence in accuracy\n",
    "- Small changes and extensions are safe and easy\n",
    "- Fast enough to be useful\n",
    "- Sustainable (during its lifecycle)\n",
    "- Citable"
   ]
  },
  {
   "cell_type": "markdown",
   "metadata": {
    "slideshow": {
     "slide_type": "subslide"
    }
   },
   "source": [
    "## Plan for the day\n",
    "\n",
    "- Morning: What ideals should we aspire to?\n",
    "- Afternoon: What strategies can we use to get there?"
   ]
  },
  {
   "cell_type": "markdown",
   "metadata": {
    "slideshow": {
     "slide_type": "subslide"
    }
   },
   "source": [
    "## What is your project's value proposition?\n",
    "\n",
    "Fill in the template below for your current project.\n",
    "\n",
    "1. For *[description of target users]*\n",
    "2. who want to *[statement of their need(s)]*,\n",
    "3. *[project name]*\n",
    "4. provides *[statement of key benefits]*.\n",
    "5. Unlike *[name of alternative solutions(s)]*,\n",
    "6. our project enables users to *[key differentiator]*."
   ]
  },
  {
   "cell_type": "markdown",
   "metadata": {
    "slideshow": {
     "slide_type": "subslide"
    }
   },
   "source": [
    "## Describe how your project is managed\n",
    "\n",
    "Write a short point-form description (5-6 bullets) of how your current project is managed:\n",
    "\n",
    "1. Who uses the software?\n",
    "2. How?\n",
    "3. How do they find the software?\n",
    "4. How do they set it up?\n",
    "5. Who decides what to change and when?\n",
    "6. How are decisions and changes circulated?"
   ]
  },
  {
   "cell_type": "markdown",
   "metadata": {
    "slideshow": {
     "slide_type": "slide"
    }
   },
   "source": [
    "# Organize Deliberately"
   ]
  },
  {
   "cell_type": "markdown",
   "metadata": {
    "slideshow": {
     "slide_type": "subslide"
    }
   },
   "source": [
    "## Project organization\n",
    "\n",
    "<img src=\"fig/noble.png\" alt=\"Research software\" style=\"width: 12em; float: right;\" />\n",
    "\n",
    "- It's like a diet\n",
    "- An example: \"Noble's Rules\"  \n",
    "  ([Noble 2009, *PLOS Comp. Bio.*](http://journals.plos.org/ploscompbiol/article?id=10.1371/journal.pcbi.1000424))\n",
    "- Details not important,  \n",
    "  but principles are"
   ]
  },
  {
   "cell_type": "markdown",
   "metadata": {
    "slideshow": {
     "slide_type": "subslide"
    }
   },
   "source": [
    "## Project organization (cont.)\n",
    "\n",
    "- **<font color=\"red\">Name all files to reflect content and purpose</font>**\n",
    "- Use established conventions\n",
    "- But (deliberate) adaptations are fine"
   ]
  },
  {
   "cell_type": "markdown",
   "metadata": {
    "slideshow": {
     "slide_type": "subslide"
    }
   },
   "source": [
    "## How Is Your Project Organized?\n",
    "\n",
    "Draw a diagram of how your project is currently organized.\n",
    "\n",
    "1. Is this documented anywhere?\n",
    "2. Would it be intuitive for a newcomer?\n",
    "3. Are there any changes you could make to take advantage of common conventions?"
   ]
  },
  {
   "cell_type": "markdown",
   "metadata": {
    "slideshow": {
     "slide_type": "slide"
    }
   },
   "source": [
    "# Use Version Control"
   ]
  },
  {
   "cell_type": "markdown",
   "metadata": {
    "slideshow": {
     "slide_type": "subslide"
    }
   },
   "source": [
    "## Version control facilitates...\n",
    "\n",
    "\n",
    "- Worry-free tinkering\n",
    "- Collaboration\n",
    "- Reproducibility\n",
    "- Transparency"
   ]
  },
  {
   "cell_type": "markdown",
   "metadata": {
    "slideshow": {
     "slide_type": "subslide"
    }
   },
   "source": [
    "<center><h2><font color=\"red\">Using version control is a professional obligation!</font></h2></center>"
   ]
  },
  {
   "cell_type": "markdown",
   "metadata": {
    "slideshow": {
     "slide_type": "subslide"
    }
   },
   "source": [
    "## Feature branch workflow\n",
    "\n",
    "<center><img src=\"fig/feature-branch.png\" alt=\"Feature branch workflow\" style=\"width: 18em;\" /></center>"
   ]
  },
  {
   "cell_type": "markdown",
   "metadata": {
    "slideshow": {
     "slide_type": "subslide"
    }
   },
   "source": [
    "## Feature branch workflow (cont.)\n",
    "\n",
    "- Designate a main development branch (\"master\")\n",
    "- For each new feature\n",
    "    - Create a new branch from \"master\"\n",
    "    - Implement and test the feature on that branch\n",
    "    - Merge the branch into \"master\" when the feature is done\n",
    "- The \"master\" branch is always in a clean, runnable state\n",
    "    - Enforce automatically when possible"
   ]
  },
  {
   "cell_type": "markdown",
   "metadata": {
    "slideshow": {
     "slide_type": "subslide"
    }
   },
   "source": [
    "## Github flow in action\n",
    "\n",
    "1. Go to the SNDS Github repo\n",
    "2. Clone to your laptop\n",
    "3. Create a new branch with your name as a label\n",
    "4. Add your name and email to the \"CONTRIBUTORS\" file.\n",
    "5. Create a new pull request."
   ]
  },
  {
   "cell_type": "markdown",
   "metadata": {
    "slideshow": {
     "slide_type": "slide"
    }
   },
   "source": [
    "# Automate Frequent Tasks"
   ]
  },
  {
   "cell_type": "markdown",
   "metadata": {
    "slideshow": {
     "slide_type": "subslide"
    }
   },
   "source": [
    "## Don't Repeat Yourself!\n",
    "\n",
    "- DRY principle: don't repeat yourself\n",
    "  > *The only thing you can accomplish by typing something repeatedly is to get it wrong.*\n",
    "- Use an automated build manager\n",
    "- Use checklists for tasks you can't automate"
   ]
  },
  {
   "cell_type": "markdown",
   "metadata": {
    "slideshow": {
     "slide_type": "subslide"
    }
   },
   "source": [
    "## Build managers\n",
    "\n",
    "- GNU Make\n",
    "    - *The old standby*\n",
    "- CMake, automake/autoconf, SCons, etc.\n",
    "    - *\"New\" flavors*\n",
    "- rake, pydoit, SnakeMake, etc.\n",
    "    - *Language-specific*"
   ]
  },
  {
   "cell_type": "markdown",
   "metadata": {
    "slideshow": {
     "slide_type": "subslide"
    }
   },
   "source": [
    "## Build managers (cont)\n",
    "\n",
    "- Key feature: dependencies\n",
    "    - \"X depends on Y depends on Z\"\n",
    "    - Usually implemented using timestamps or hashes\n",
    "    - Tasks only re-executed when needed\n",
    "- Originally designed for compiling large programs\n",
    "- Can be adapted for arbitrary workflows"
   ]
  },
  {
   "cell_type": "markdown",
   "metadata": {
    "slideshow": {
     "slide_type": "subslide"
    }
   },
   "source": [
    "## Checklists\n",
    "\n",
    "- \"Build file\" executed by humans\n",
    "- Keep in version control\n",
    "- Adapt over time as needed based on experience and feedback"
   ]
  },
  {
   "cell_type": "markdown",
   "metadata": {
    "slideshow": {
     "slide_type": "subslide"
    }
   },
   "source": [
    "## Create a task list\n",
    "\n",
    "1. If your project doesn’t use a build manager, what are the first few tasks you should automate?\n",
    "2. If your project already uses a build manager, what tasks are used most often?"
   ]
  },
  {
   "cell_type": "markdown",
   "metadata": {
    "slideshow": {
     "slide_type": "subslide"
    }
   },
   "source": [
    "## Create a setup checklist\n",
    "\n",
    "1. Write a short point-form checklist describing the things you do when setting up a new machine to do development on your project.\n",
    "2. How many of the steps in your checklist can be automated using shell scripts or other small programs?\n",
    "3. How will newcomers know if they have completed the steps in the checklist correctly?"
   ]
  },
  {
   "cell_type": "markdown",
   "metadata": {
    "slideshow": {
     "slide_type": "slide"
    }
   },
   "source": [
    "# Make the Software Robust"
   ]
  },
  {
   "cell_type": "markdown",
   "metadata": {
    "slideshow": {
     "slide_type": "subslide"
    }
   },
   "source": [
    "## Robust software\n",
    "\n",
    "*Robust* is the difference between \n",
    "\n",
    "> *Works for me on my machine.*\n",
    "\n",
    "and \n",
    "\n",
    "> *Works for someone I've never met on a cluster I've never heard of.*"
   ]
  },
  {
   "cell_type": "markdown",
   "metadata": {
    "slideshow": {
     "slide_type": "subslide"
    }
   },
   "source": [
    "## Taschuk's Rules\n",
    "\n",
    "See ([Taschuk & Wilson 2017, *PLOS Comp. Bio.*](http://journals.plos.org/ploscompbiol/article?id=10.1371/journal.pcbi.1005412))\n",
    "\n",
    "<center>Provide a descriptive README (synopsis, dependencies)</center>\n",
    "\n",
    "<center><img src=\"fig/khmer-readme.png\" alt=\"README in terminal and browser\" style=\"width: 24em\" /></center>"
   ]
  },
  {
   "cell_type": "markdown",
   "metadata": {
    "slideshow": {
     "slide_type": "subslide"
    }
   },
   "source": [
    "## Taschuk's Rules (cont.)\n",
    "\n",
    "<center>Provide a descriptive usage statement<br />Make common operations easy to configure</center>\n",
    "\n",
    "<center><img src=\"fig/canon-cli.png\" alt=\"CLI in terminal\" style=\"width: 16em\" /></center>"
   ]
  },
  {
   "cell_type": "markdown",
   "metadata": {
    "slideshow": {
     "slide_type": "subslide"
    }
   },
   "source": [
    "## Taschuk's Rules (cont.)\n",
    "\n",
    "- Use version control\n",
    "- Release stable versions w/ meaningful version number\n",
    "- Reuse existing software (whenever possible)\n",
    "- Use build tools & package managers for installation\n",
    "- Do not require special privileges\n",
    "- Eliminate fixed/absolute file paths\n",
    "- Include a small data set to test installation\n",
    "- Produce identical results given identical input"
   ]
  },
  {
   "cell_type": "markdown",
   "metadata": {
    "slideshow": {
     "slide_type": "subslide"
    }
   },
   "source": [
    "## How do you version now?\n",
    "\n",
    "1. How many different versions of your project are in use right now? How do you know?\n",
    "2. If a user has a problem, how will you and they find out which version of the software they have?"
   ]
  },
  {
   "cell_type": "markdown",
   "metadata": {
    "slideshow": {
     "slide_type": "subslide"
    }
   },
   "source": [
    "## Runtime configuration\n",
    "\n",
    "1. What options or parameters does your program use?\n",
    "2. Which ones are users most likely to set or change?\n",
    "3. How are these parameters set?"
   ]
  },
  {
   "cell_type": "markdown",
   "metadata": {
    "slideshow": {
     "slide_type": "slide"
    }
   },
   "source": [
    "# Test All The Things"
   ]
  },
  {
   "cell_type": "markdown",
   "metadata": {
    "slideshow": {
     "slide_type": "subslide"
    }
   },
   "source": [
    "## Are your tests...\n",
    "\n",
    "<img src=\"fig/testing_graphic.jpg\" alt=\"Software testing\" style=\"width: 12em; float: right;\" />\n",
    "\n",
    "- Automated?\n",
    "- Comprehensive?\n",
    "- Well documented?"
   ]
  },
  {
   "cell_type": "markdown",
   "metadata": {
    "slideshow": {
     "slide_type": "subslide"
    }
   },
   "source": [
    "## Types of tests\n",
    "\n",
    "<img src=\"fig/science-cat.jpg\" alt=\"Science cat says you need more tests\" style=\"width: 8em; float: right;\" />\n",
    "\n",
    "- Smoke test\n",
    "- Unit test\n",
    "- Functional test\n",
    "- Integration test"
   ]
  },
  {
   "cell_type": "markdown",
   "metadata": {
    "slideshow": {
     "slide_type": "subslide"
    }
   },
   "source": [
    "## Test evaluation\n",
    "\n",
    "- Check exact value\n",
    "- Check match against a pattern\n",
    "- Check range of value (a.k.a. specify tolerances)"
   ]
  },
  {
   "cell_type": "markdown",
   "metadata": {
    "slideshow": {
     "slide_type": "subslide"
    }
   },
   "source": [
    "## Use a testing framework\n",
    "\n",
    "- Exist for most popular languages\n",
    "    - `pytest` for Python\n",
    "    - `testthat` for R\n",
    "- Implement tests as functions\n",
    "- Each test results in a pass, fail, or error\n",
    "- Framework finds and executes tests"
   ]
  },
  {
   "cell_type": "markdown",
   "metadata": {
    "slideshow": {
     "slide_type": "subslide"
    }
   },
   "source": [
    "## What Are Your Tolerances?\n",
    "\n",
    "1. What will you measure to determine whether your software is correct enough?\n",
    "2. What tolerances will you accept on answers?\n",
    "3. Why?"
   ]
  },
  {
   "cell_type": "markdown",
   "metadata": {
    "slideshow": {
     "slide_type": "subslide"
    }
   },
   "source": [
    "## Exercise: rectangle overlay\n",
    "\n",
    "<center><img src=\"fig/overlay.png\" alt=\"Rectangle overlay\" style=\"height: 6em;\" /></center>\n",
    "\n",
    "Given two rectangles, each defined by the four values `[x0, y0, x1, y1]`, return the rectangle representing their overlap. Assume all coordinates are integer."
   ]
  },
  {
   "cell_type": "markdown",
   "metadata": {
    "slideshow": {
     "slide_type": "slide"
    }
   },
   "source": [
    "# Licensing"
   ]
  },
  {
   "cell_type": "markdown",
   "metadata": {
    "slideshow": {
     "slide_type": "subslide"
    }
   },
   "source": [
    "## Licensing research software\n",
    "\n",
    "- Creative works automatically eligible for protection\n",
    "- Reusing creative works without a license is dangerous (infringement lawsuits)\n",
    "- Adding an license to your project\n",
    "    - Makes protections and permissions explicit\n",
    "    - Signals how you wish to engage the wider research community."
   ]
  },
  {
   "cell_type": "markdown",
   "metadata": {
    "slideshow": {
     "slide_type": "subslide"
    }
   },
   "source": [
    "## Choose a license\n",
    "\n",
    "- Put a `LICENSE` or `LICENSE.txt` file in your repository\n",
    "- Use a common license, **don't write your own**\n",
    "    - MIT or BSD\n",
    "    - GPL\n",
    "    - Creative Commons (CC-0 or CC-BY)\n",
    "    - others from [Open Source Initiative](http://opensource.org/licenses)"
   ]
  },
  {
   "cell_type": "markdown",
   "metadata": {
    "slideshow": {
     "slide_type": "subslide"
    }
   },
   "source": [
    "## Licensing considerations\n",
    "\n",
    "- Do you want to license your project at all? Can you?\n",
    "- Do you require derivative works to have the same license? (fraught with unintended consequences)\n",
    "- Is your license compatible with the software your project depends on?"
   ]
  },
  {
   "cell_type": "markdown",
   "metadata": {
    "slideshow": {
     "slide_type": "slide"
    }
   },
   "source": [
    "# Hosting"
   ]
  },
  {
   "cell_type": "markdown",
   "metadata": {
    "slideshow": {
     "slide_type": "subslide"
    }
   },
   "source": [
    "## What are the permanent access points for your project?\n",
    "\n",
    "- Software under development\n",
    "- Stable software releases/versions\n",
    "- Documentation\n",
    "- Supporting data"
   ]
  },
  {
   "cell_type": "markdown",
   "metadata": {
    "slideshow": {
     "slide_type": "subslide"
    }
   },
   "source": [
    "## Hosting considerations\n",
    "\n",
    "- Privacy?\n",
    "- Ownership, branding\n",
    "- Reliability\n",
    "- Management burden"
   ]
  },
  {
   "cell_type": "markdown",
   "metadata": {
    "slideshow": {
     "slide_type": "subslide"
    }
   },
   "source": [
    "## Hosting options\n",
    "\n",
    "- Lab / department / university server\n",
    "- Paid hosting service\n",
    "- Public hosting service"
   ]
  },
  {
   "cell_type": "markdown",
   "metadata": {
    "slideshow": {
     "slide_type": "subslide"
    }
   },
   "source": [
    "## Can my work be public?\n",
    "\n",
    "Find out whether you are allowed to host your work openly on a public forge. Can you do this unilaterally, or do you need permission from someone in your institution? If so, who?"
   ]
  },
  {
   "cell_type": "markdown",
   "metadata": {
    "slideshow": {
     "slide_type": "subslide"
    }
   },
   "source": [
    "## Sharing your work\n",
    "\n",
    "For your project, write down where would you point a new lab mate or collaborator to find the following?\n",
    "\n",
    "- The project's development repository\n",
    "- The latest stable version / release\n",
    "- Previous stable versions / releases\n",
    "- Project documentation\n",
    "- Supporting data (if any)"
   ]
  },
  {
   "cell_type": "markdown",
   "metadata": {
    "slideshow": {
     "slide_type": "slide"
    }
   },
   "source": [
    "# Packaging"
   ]
  },
  {
   "cell_type": "markdown",
   "metadata": {
    "slideshow": {
     "slide_type": "subslide"
    }
   },
   "source": [
    "## Package managers\n",
    "\n",
    "- Motivation: ease software installation burden\n",
    "    - For users and sysadmins at least\n",
    "    - Result: additional burden on developer\n",
    "- Single command to install software packages\n",
    "    - Handles dependencies recursively\n",
    "    - Easily scripted or otherwise automated"
   ]
  },
  {
   "cell_type": "markdown",
   "metadata": {
    "slideshow": {
     "slide_type": "subslide"
    }
   },
   "source": [
    "## Dependency management\n",
    "\n",
    "A hypothetical `requirements.txt` for a python package.\n",
    "\n",
    "```\n",
    "Django>=1.9,<1.10\n",
    "PyYAML\n",
    "requests>=2.0\n",
    "```\n",
    "\n",
    "Install with `pip install -r requirements.txt`"
   ]
  },
  {
   "cell_type": "markdown",
   "metadata": {
    "slideshow": {
     "slide_type": "subslide"
    }
   },
   "source": [
    "## Common package managers\n",
    "\n",
    "- **OS-specific**: homebrew, apt, yum, pacman, etc.\n",
    "- **Language-specific**: pip, cran, npm, gem, cpan, etc.\n",
    "- **Generic**: conda, others?"
   ]
  },
  {
   "cell_type": "markdown",
   "metadata": {
    "slideshow": {
     "slide_type": "subslide"
    }
   },
   "source": [
    "## Containers\n",
    "\n",
    "- Alternative for configuring software environment\n",
    "- Complementary to, not competitive with, package managers\n",
    "- Examples: Docker, Singularity"
   ]
  },
  {
   "cell_type": "markdown",
   "metadata": {
    "slideshow": {
     "slide_type": "subslide"
    }
   },
   "source": [
    "## Ask your doctor: is packaging right for you?\n",
    "\n",
    "\n",
    "1. What language is your project primarily implemented in? Does a package manager exist for this language?\n",
    "2. Write down your project’s dependencies. Can these be installed with a package manager? Is this the same as the package manager above?\n",
    "3. How do you know if your dependency list is correct? How would you know if something changed and it fell out of date?"
   ]
  },
  {
   "cell_type": "markdown",
   "metadata": {
    "slideshow": {
     "slide_type": "slide"
    }
   },
   "source": [
    "# Review"
   ]
  },
  {
   "cell_type": "markdown",
   "metadata": {
    "slideshow": {
     "slide_type": "subslide"
    }
   },
   "source": [
    "## What ideals should my project aspire to?\n",
    "\n",
    "- Intuitive organization (Noble's Rules)\n",
    "- Transparency, provenance (version control)\n",
    "- Usability (build managers, Taschuk's Rules)\n",
    "- Accuracy, reliability (testing)\n",
    "- Usability (licensing)\n",
    "- Availability (hosting, packaging)"
   ]
  },
  {
   "cell_type": "markdown",
   "metadata": {
    "slideshow": {
     "slide_type": "subslide"
    }
   },
   "source": [
    "## What ideals should my project aspire to?\n",
    "\n",
    "- Reproducibility\n",
    "- Replicability\n",
    "- Repeatability"
   ]
  },
  {
   "cell_type": "markdown",
   "metadata": {
    "slideshow": {
     "slide_type": "slide"
    }
   },
   "source": [
    "# Development Paradigms"
   ]
  },
  {
   "cell_type": "markdown",
   "metadata": {
    "slideshow": {
     "slide_type": "subslide"
    }
   },
   "source": [
    "## Agile development\n",
    "\n",
    "- Rapid iteration\n",
    "- Compatible with informal/underdeveloped/changing requirements\n",
    "- Frequent (daily) short progress updates\n",
    "- Works well for small teams"
   ]
  },
  {
   "cell_type": "markdown",
   "metadata": {
    "slideshow": {
     "slide_type": "subslide"
    }
   },
   "source": [
    "## Agile development\n",
    "\n",
    "- Rapid iteration\n",
    "- Compatible with fluid requirements\n",
    "- Daily short progress updates\n",
    "- Works well for small teams"
   ]
  },
  {
   "cell_type": "markdown",
   "metadata": {
    "slideshow": {
     "slide_type": "subslide"
    }
   },
   "source": [
    "## Stand-up meetings\n",
    "\n",
    "<img src=\"fig/standup.jpg\" alt=\"Standup meetings\" style=\"width: 12em; float: right;\" />\n",
    "\n",
    "- Report and discuss:\n",
    "    - yesterday\n",
    "    - today\n",
    "    - blockers\n",
    "- \"Stand-up\": short, focused\n",
    "- Break down work into small  \n",
    "  chunks"
   ]
  },
  {
   "cell_type": "markdown",
   "metadata": {
    "slideshow": {
     "slide_type": "subslide"
    }
   },
   "source": [
    "## Agile works best when...\n",
    "\n",
    "- Requirements are informal, underdeveloped, or changing\n",
    "- Developers can communicate continuously\n",
    "- Team is small\n",
    "- Team is disciplined\n",
    "- Team members *like* to be empowered"
   ]
  },
  {
   "cell_type": "markdown",
   "metadata": {
    "slideshow": {
     "slide_type": "subslide"
    }
   },
   "source": [
    "## Agile is not \"cowboy coding\"\n",
    "\n",
    "- Many developers don't like to plan or document their work\n",
    "- Agile is not an excuse do avoid doing things you don't want to do\n",
    "- Agile requires **more** discipline (like musical improv)"
   ]
  },
  {
   "cell_type": "markdown",
   "metadata": {
    "slideshow": {
     "slide_type": "subslide"
    }
   },
   "source": [
    "## Is your team agile?\n",
    "\n",
    "- Which of the key agile practices described above are you currently using?\n",
    "- Which do you think you and your team would actually adopt in the next 3-6 months?\n",
    "- Which do you think are not good fits to your needs or situation?"
   ]
  },
  {
   "cell_type": "markdown",
   "metadata": {
    "slideshow": {
     "slide_type": "subslide"
    }
   },
   "source": [
    "## \"Sturdy\" development\n",
    "\n",
    "- \"Measure twice, cut once\"\n",
    "- Requires formal, mature requirements\n",
    "- More upfront planning and estimation\n",
    "- Scheduling enforced by managers\n",
    "- Can scale to *very* large projects"
   ]
  },
  {
   "cell_type": "markdown",
   "metadata": {
    "slideshow": {
     "slide_type": "subslide"
    }
   },
   "source": [
    "## Classical approach works best when...\n",
    "\n",
    "- Stakeholders are committed to the long-term\n",
    "- Work is so large that division of labor is essential\n",
    "- Problem domain, solutions, and technologies are well understood"
   ]
  },
  {
   "cell_type": "markdown",
   "metadata": {
    "slideshow": {
     "slide_type": "subslide"
    }
   },
   "source": [
    "## Classical engineering process\n",
    "\n",
    "<img src=\"fig/prioritize.png\" alt=\"Prioritization\" style=\"width: 10em; float: right;\" />\n",
    "\n",
    "1. Gather requirements\n",
    "2. Analysis and estimation\n",
    "3. Prioritization (3x3 grid)\n",
    "4. Scheduling\n",
    "5. Implementation\n",
    "6. Wrap up"
   ]
  },
  {
   "cell_type": "markdown",
   "metadata": {
    "slideshow": {
     "slide_type": "subslide"
    }
   },
   "source": [
    "## Software requirements\n",
    "\n",
    "The classical approach relies on good, strict requirements.\n",
    "\n",
    "- As unambiguous as a legal contract or a mathematical proof.\n",
    "- Two independent competent practicioners should reach same conclusions about correctness."
   ]
  },
  {
   "cell_type": "markdown",
   "metadata": {
    "slideshow": {
     "slide_type": "subslide"
    }
   },
   "source": [
    "## Prioritize\n",
    "\n",
    "1. Draw a 3x3 grid of the kind described above.\n",
    "2. Pick 3-4 open issues for your current project.\n",
    "3. Decide where each one belongs on the grid. Are any of them so large that they should be broken down into sub-tasks?"
   ]
  },
  {
   "cell_type": "markdown",
   "metadata": {
    "slideshow": {
     "slide_type": "subslide"
    }
   },
   "source": [
    "## Write requirements\n",
    "\n",
    "1. Write an unambiguous specification of a feature you would like to add to your current project.\n",
    "2. Swap specifications with your partner.\n",
    "3. What is the least helpful (or most damaging) implementation of your partner’s feature you can think of that would technically satisfy the specification they wrote?"
   ]
  },
  {
   "cell_type": "markdown",
   "metadata": {
    "slideshow": {
     "slide_type": "slide"
    }
   },
   "source": [
    "# Issues and Action Items"
   ]
  },
  {
   "cell_type": "markdown",
   "metadata": {
    "slideshow": {
     "slide_type": "subslide"
    }
   },
   "source": [
    "## Issue trackers\n",
    "\n",
    "- Also called bug trackers\n",
    "- Shared \"to-do\" list to manage everything\n",
    "- Every task is recorded as a separate ticket"
   ]
  },
  {
   "cell_type": "markdown",
   "metadata": {
    "slideshow": {
     "slide_type": "subslide"
    }
   },
   "source": [
    "## Issue trackers can be used...\n",
    "\n",
    "- To plan or request new features\n",
    "- To describe bugs\n",
    "- To solicit bug reports from community\n",
    "- To discuss planned changes\n",
    "- To dump ideas for later reference"
   ]
  },
  {
   "cell_type": "markdown",
   "metadata": {
    "slideshow": {
     "slide_type": "subslide"
    }
   },
   "source": [
    "<img src=\"fig/issue-thread-list.png\" alt=\"Issue thread list\" />"
   ]
  },
  {
   "cell_type": "markdown",
   "metadata": {
    "slideshow": {
     "slide_type": "subslide"
    }
   },
   "source": [
    "<img src=\"fig/issue-thread-short.png\" alt=\"Issue thread list\" />"
   ]
  },
  {
   "cell_type": "markdown",
   "metadata": {
    "slideshow": {
     "slide_type": "subslide"
    }
   },
   "source": [
    "<center><img src=\"fig/issue-thread-long.png\" alt=\"Issue thread list\" style=\"height: 18em\" /></center>"
   ]
  },
  {
   "cell_type": "markdown",
   "metadata": {
    "slideshow": {
     "slide_type": "subslide"
    }
   },
   "source": [
    "## Components of each issue/task/ticket\n",
    "\n",
    "- Unique ID (auto-assigned)\n",
    "- Short desriptive summary (to aid browsing)\n",
    "- Tags / metadata (to aid searching)\n",
    "- Status\n",
    "- Owner (who's responsible)\n",
    "- Full description\n",
    "- Threaded discussion"
   ]
  },
  {
   "cell_type": "markdown",
   "metadata": {
    "slideshow": {
     "slide_type": "subslide"
    }
   },
   "source": [
    "## Key utilities of issue trackers\n",
    "\n",
    "- Prioritization\n",
    "    - What has to be done right now? Soon? Later?\n",
    "- Documenting your work\n",
    "    - Think of it as a shared lab notebook.\n",
    "    - Full record of work done, along with relevant discussion, reasoning, etc.\n",
    "    - Everyone knows what everyone else is working on."
   ]
  },
  {
   "cell_type": "markdown",
   "metadata": {
    "slideshow": {
     "slide_type": "subslide"
    }
   },
   "source": [
    "## What's on *YOUR* list?\n",
    "\n",
    "1. What are the top 3 items on your project’s to-do list?\n",
    "2. How confident are you that your collaborators and users would agree with your selection?"
   ]
  },
  {
   "cell_type": "markdown",
   "metadata": {
    "slideshow": {
     "slide_type": "slide"
    }
   },
   "source": [
    "# Test-Driven Development"
   ]
  },
  {
   "cell_type": "markdown",
   "metadata": {
    "slideshow": {
     "slide_type": "subslide"
    }
   },
   "source": [
    "## Write tests first\n",
    "\n",
    "1. Write several tests describing a desired new feature\n",
    "    - tests won't actually pass\n",
    "    - serve as requirements\n",
    "    - go for clear, comprehensive, and precise\n",
    "2. Implement the desired feature\n",
    "    - you're done when the tests pass\n",
    "    - write only enough code to make the tests pass"
   ]
  },
  {
   "cell_type": "markdown",
   "metadata": {
    "slideshow": {
     "slide_type": "subslide"
    }
   },
   "source": [
    "## Does it work?\n",
    "\n",
    "Advocates claim TDD:\n",
    "\n",
    "- Helps with focus\n",
    "- Ensures code is testable\n",
    "- Ensures tests actually get written"
   ]
  },
  {
   "cell_type": "markdown",
   "metadata": {
    "slideshow": {
     "slide_type": "subslide"
    }
   },
   "source": [
    "## Does it work?\n",
    "\n",
    "Evidence is contradictory\n",
    "\n",
    "- No strong positive effect from empirical studies\n",
    "- But many productive programmers swear by it\n",
    "- Maybe we're measuring the wrong things?\n",
    "\n",
    "See \"Making Software\" by Oram & Wilson"
   ]
  },
  {
   "cell_type": "markdown",
   "metadata": {
    "slideshow": {
     "slide_type": "subslide"
    }
   },
   "source": [
    "## TDD exercise: SNDS\n",
    "\n",
    "1. Return to the SNDS repo\n",
    "2. Return to master branch, and create a new branch\n",
    "3. Write 4-6 tests for the \"sums\" function\n",
    "4. Open a new pull request\n",
    "5. We will implement the \"sums\" function together"
   ]
  },
  {
   "cell_type": "code",
   "execution_count": 1,
   "metadata": {
    "slideshow": {
     "slide_type": "skip"
    }
   },
   "outputs": [],
   "source": [
    "def sum_non_dec_sublists(inlist):\n",
    "    \"\"\"\n",
    "    Given a list of numbers, return a list of the sums of each non-\n",
    "    decreasing sub-list. For example, if the input is [1, 2, 3, 3, 1,\n",
    "    5, 6, 3, 1, 2, 3], the output should be [9, 12, 3, 6].\n",
    "    \"\"\"\n",
    "    sums = list()\n",
    "    \n",
    "    buffer = list()\n",
    "    for value in inlist:\n",
    "        if len(buffer) > 0 and value < buffer[-1]:\n",
    "            newsum = sum(buffer)\n",
    "            sums.append(newsum)\n",
    "            buffer = list()\n",
    "        buffer.append(value)\n",
    "    newsum = sum(buffer)\n",
    "    sums.append(newsum)\n",
    "    \n",
    "    return sums"
   ]
  },
  {
   "cell_type": "markdown",
   "metadata": {
    "slideshow": {
     "slide_type": "slide"
    }
   },
   "source": [
    "# Code Review"
   ]
  },
  {
   "cell_type": "markdown",
   "metadata": {
    "slideshow": {
     "slide_type": "subslide"
    }
   },
   "source": [
    "## Code review\n",
    "\n",
    "<img src=\"fig/code-review.png\" alt=\"Pair programming\" style=\"width: 6em; float: right;\" />\n",
    "\n",
    "- Most cost effective way to find bugs\n",
    "- Natural extension of what academics  \n",
    "  do with each other's papers\n",
    "- Should be continuous part of the  \n",
    "  regular development cycle"
   ]
  },
  {
   "cell_type": "markdown",
   "metadata": {
    "slideshow": {
     "slide_type": "subslide"
    }
   },
   "source": [
    "## Code review works best when...\n",
    "\n",
    "- Code already passes tests and style checks\n",
    "- Each review takes less than an hour\n",
    "- Focus is on behavior, not appearance\n",
    "- Reviewer has a checklist to refer to"
   ]
  },
  {
   "cell_type": "markdown",
   "metadata": {
    "slideshow": {
     "slide_type": "subslide"
    }
   },
   "source": [
    "## Not just for code\n",
    "\n",
    "Reviews should include:\n",
    "\n",
    "- Description (issues, PRs)\n",
    "- Documentation\n",
    "- Commit messages and/or change log"
   ]
  },
  {
   "cell_type": "markdown",
   "metadata": {
    "slideshow": {
     "slide_type": "subslide"
    }
   },
   "source": [
    "## Code review in academics\n",
    "\n",
    "- Domain experts are scarce\n",
    "- No career incentives to review someone else's project\n",
    "- At present, only sustainable within team projects\n",
    "- One of many problems with publishing academic research software"
   ]
  },
  {
   "cell_type": "markdown",
   "metadata": {
    "slideshow": {
     "slide_type": "subslide"
    }
   },
   "source": [
    "## Pair programming\n",
    "\n",
    "<img src=\"fig/pairprogramming.png\" alt=\"Pair programming\" style=\"width: 10em; float: right;\" />\n",
    "\n",
    "- Real-time code review\n",
    "- Helps with knowledge transfer\n",
    "- Discourages social media\n",
    "- Studies prove effectiveness"
   ]
  },
  {
   "cell_type": "markdown",
   "metadata": {
    "slideshow": {
     "slide_type": "subslide"
    }
   },
   "source": [
    "## Pair programming (cont.)\n",
    "\n",
    "- Most people don't want to do it all the time\n",
    "- Problematic with highly specialized problem domains\n",
    "- Save it for onboarding, difficult tasks, or team building"
   ]
  },
  {
   "cell_type": "markdown",
   "metadata": {
    "slideshow": {
     "slide_type": "slide"
    }
   },
   "source": [
    "# Continuous Integration"
   ]
  },
  {
   "cell_type": "markdown",
   "metadata": {
    "slideshow": {
     "slide_type": "subslide"
    }
   },
   "source": [
    "## What is continuous integration?\n",
    "\n",
    "- Automatically build and test code with each commit\n",
    "- Post results somewhere the team can see them\n",
    "- If a build or tests fail, send notifications"
   ]
  },
  {
   "cell_type": "markdown",
   "metadata": {
    "slideshow": {
     "slide_type": "subslide"
    }
   },
   "source": [
    "## CI and feature branch workflow\n",
    "\n",
    "- Build and run tests on feature branches *before they're merged*\n",
    "- Only do code review when CI passes\n",
    "- Only merge to `master` after CI and code review pass"
   ]
  },
  {
   "cell_type": "markdown",
   "metadata": {
    "slideshow": {
     "slide_type": "subslide"
    }
   },
   "source": [
    "<center><img src=\"fig/ci-check-pending.png\" alt=\"CI check pending\" style=\"width: 20em;\" /></center>"
   ]
  },
  {
   "cell_type": "markdown",
   "metadata": {
    "slideshow": {
     "slide_type": "subslide"
    }
   },
   "source": [
    "<center><img src=\"fig/ci-check-pending.png\" alt=\"CI check pending\" style=\"width: 20em;\" /></center>"
   ]
  },
  {
   "cell_type": "markdown",
   "metadata": {
    "slideshow": {
     "slide_type": "subslide"
    }
   },
   "source": [
    "## CI platforms\n",
    "\n",
    "- Travis CI\n",
    "- Drone.io\n",
    "- Circle CIO\n",
    "- Gitlab (integrated)\n",
    "- Jenkins (self-hosted)"
   ]
  },
  {
   "cell_type": "markdown",
   "metadata": {
    "slideshow": {
     "slide_type": "subslide"
    }
   },
   "source": [
    "## Recommended CI checks\n",
    "\n",
    "- build/compile\n",
    "- automated tests\n",
    "- test coverage\n",
    "- code style"
   ]
  },
  {
   "cell_type": "markdown",
   "metadata": {
    "slideshow": {
     "slide_type": "subslide"
    }
   },
   "source": [
    "## Test coverage\n",
    "\n",
    "- Measures what code is being executed and what isn't\n",
    "- Coverage doesn't guarantee correctness\n",
    "    - Just less likely to be incorrect for stupid, obvious reasons\n",
    "- Coverage can't measure everything\n",
    "    - Example: how different types of input are handled"
   ]
  },
  {
   "cell_type": "markdown",
   "metadata": {
    "slideshow": {
     "slide_type": "subslide"
    }
   },
   "source": [
    "<center><img src=\"fig/ci-coverage-1.png\" alt=\"CI code coverage\" style=\"width: 20em;\" /></center>"
   ]
  },
  {
   "cell_type": "markdown",
   "metadata": {
    "slideshow": {
     "slide_type": "subslide"
    }
   },
   "source": [
    "<center><img src=\"fig/ci-coverage-2.png\" alt=\"CI code coverage\" style=\"width: 20em;\" /></center>"
   ]
  },
  {
   "cell_type": "markdown",
   "metadata": {
    "slideshow": {
     "slide_type": "subslide"
    }
   },
   "source": [
    "## Code style\n",
    "\n",
    "- Sometimes called \"linters\" after the lint program for C\n",
    "    - **pep8** for Python\n",
    "    - **formatR** for R\n",
    "- Automatic enforcement eliminates subjective arguments\n",
    "    - if the code passes, it's approved\n",
    "    - guarantee: never have to worry about style\n",
    "    - discuss exceptions on a case-by-case basis"
   ]
  },
  {
   "cell_type": "markdown",
   "metadata": {
    "slideshow": {
     "slide_type": "subslide"
    }
   },
   "source": [
    "## Set up CI\n",
    "\n",
    "Follow the \"Continous Integration tutorial\" to set up CI for our non-descending sublists repository."
   ]
  },
  {
   "cell_type": "markdown",
   "metadata": {
    "slideshow": {
     "slide_type": "slide"
    }
   },
   "source": [
    "# Compromise"
   ]
  },
  {
   "cell_type": "markdown",
   "metadata": {
    "slideshow": {
     "slide_type": "subslide"
    }
   },
   "source": [
    "## Technical debt\n",
    "\n",
    "- Dissonance between conceptual model and code\n",
    "- Informed, deliberate suspension of best practice\n",
    "- Term popularized by \"lean tech startup\" culture"
   ]
  },
  {
   "cell_type": "markdown",
   "metadata": {
    "slideshow": {
     "slide_type": "subslide"
    }
   },
   "source": [
    "## Tradeoffs\n",
    "\n",
    "- Technical debt usually necessary to get a project off the ground\n",
    "    - Not enough time and resources to be thorough and careful with every idea from the beginning\n",
    "- Technical debt complicates sustained development\n",
    "    - Adding new features requires going back and cleaning up\n",
    "    - Debt must be \"paid down\"...with interest!"
   ]
  },
  {
   "cell_type": "markdown",
   "metadata": {
    "slideshow": {
     "slide_type": "subslide"
    }
   },
   "source": [
    "## Stay on target!\n",
    "\n",
    "- Software engineering is not an end unto itself.\n",
    "- It is a means to an end. What are your project's ends?\n",
    "- In science, priorities should be\n",
    "    - accuracy\n",
    "    - performance\n",
    "    - ...\n",
    "    - ...\n",
    "    - aesthetics, user experience, etc."
   ]
  },
  {
   "cell_type": "markdown",
   "metadata": {
    "slideshow": {
     "slide_type": "subslide"
    }
   },
   "source": [
    "## Rapid iterative development\n",
    "\n",
    "- Build a quick proof-of-concept\n",
    "- Evaluate accuracy\n",
    "- Evaluate performance. If unsatisfactory:\n",
    "    - profile empirically\n",
    "    - optimize surgically\n",
    "- Clean up"
   ]
  },
  {
   "cell_type": "markdown",
   "metadata": {
    "slideshow": {
     "slide_type": "subslide"
    }
   },
   "source": [
    "## Incremental improvement\n",
    "\n",
    "<img src=\"fig/fix-all-the-things.png\" alt=\"Fix all the things\" style=\"width: 10em; float: right;\" />\n",
    "\n",
    "- Don't try to FIX ALL TEH THINGS  \n",
    "  AT ONCE!\n",
    "- When fixing / extending code:\n",
    "    - check for clarity\n",
    "    - improve documentation\n",
    "    - write unit tests\n",
    "- Improvements will accumulate  \n",
    "  quickly"
   ]
  },
  {
   "cell_type": "markdown",
   "metadata": {
    "slideshow": {
     "slide_type": "subslide"
    }
   },
   "source": [
    "## Summary\n",
    "\n",
    "<font color=\"red\">Compromise on best practices if you must!</font>\n",
    "\n",
    "- but not on version control\n",
    "- and not on automated testing\n",
    "- be deliberate"
   ]
  },
  {
   "cell_type": "markdown",
   "metadata": {
    "slideshow": {
     "slide_type": "subslide"
    }
   },
   "source": [
    "## Stupidity-driven development\n",
    "\n",
    "- Write lots of tests for scientific core of the code\n",
    "- Don't fuss too much about everything else\n",
    "- When a bug is encountered:\n",
    "    - write a new regression test to reproduce the bug\n",
    "    - fix the bug\n",
    "    - get on with more important things\n",
    "- Don't write tests for bugs that will never appear!"
   ]
  },
  {
   "cell_type": "markdown",
   "metadata": {
    "slideshow": {
     "slide_type": "slide"
    }
   },
   "source": [
    "# Mentorship"
   ]
  },
  {
   "cell_type": "markdown",
   "metadata": {
    "slideshow": {
     "slide_type": "slide"
    }
   },
   "source": [
    "# Build a Community"
   ]
  },
  {
   "cell_type": "markdown",
   "metadata": {
    "slideshow": {
     "slide_type": "subslide"
    }
   },
   "source": [
    "## Questions of sustainability\n",
    "\n",
    "- How to get people to use the software?\n",
    "- How to find scientists working on similar problems?\n",
    "- How to get people to contribute to the project?\n",
    "- Fate of the project when funding is depleted?\n",
    "- How to magnify career impact of the project?"
   ]
  },
  {
   "cell_type": "markdown",
   "metadata": {
    "slideshow": {
     "slide_type": "subslide"
    }
   },
   "source": [
    "## Build a community\n",
    "\n",
    "- Treat every user as a potential contributor\n",
    "- Clarify expectations about peripheral participation\n",
    "- Lower barriers of entry for use and contribution\n",
    "- Include a code of conduct\n",
    "- Manage communication"
   ]
  },
  {
   "cell_type": "markdown",
   "metadata": {
    "slideshow": {
     "slide_type": "subslide"
    }
   },
   "source": [
    "## Channels\n",
    "\n",
    "1. What is your project’s primary communication channel?\n",
    "2. Why and how was it chosen?\n",
    "3. What discussion(s) take place in other channels? Why?\n",
    "4. How easy or hard is it for a newcomer to find where things are being discussed?"
   ]
  },
  {
   "cell_type": "markdown",
   "metadata": {
    "slideshow": {
     "slide_type": "slide"
    }
   },
   "source": [
    "# Marketing"
   ]
  },
  {
   "cell_type": "markdown",
   "metadata": {
    "slideshow": {
     "slide_type": "subslide"
    }
   },
   "source": [
    "## Marketing your science\n",
    "\n",
    "- Tempting to think of science as purely meritocratic\n",
    "    - \"If I do good science, it should speak for itself!\"\n",
    "    - \"Advertising is pretentious and self-serving!\""
   ]
  },
  {
   "cell_type": "markdown",
   "metadata": {
    "slideshow": {
     "slide_type": "subslide"
    }
   },
   "source": [
    "## Scientists are social creatures\n",
    "\n",
    "- We all have our social networks of trust\n",
    "- Technology has helped with discoverability of new research\n",
    "- Still not as effective as getting airtime from a “high-profile” outlet\n",
    "    - \"Glamour\" journal (*Nature*, *Science*, etc.)\n",
    "    - Blog or Twitter account of a \"big shot\" in the field"
   ]
  },
  {
   "cell_type": "markdown",
   "metadata": {
    "slideshow": {
     "slide_type": "subslide"
    }
   },
   "source": [
    "## Don't be afraid to market your project\n",
    "\n",
    "- If it's really good, you should tell people about it\n",
    "- Concert t-shirt model\n",
    "    - Funding proposals are your product\n",
    "    - Papers and software are your   advertisements"
   ]
  },
  {
   "cell_type": "markdown",
   "metadata": {
    "slideshow": {
     "slide_type": "subslide"
    }
   },
   "source": [
    "## Use social media and blogs\n",
    "\n",
    "<img src=\"fig/social-marketing.jpg\" alt=\"Social media marketing\" style=\"width: 10em; float: right;\" />\n",
    "\n",
    "- Papers must be objective\n",
    "- Social media posts don't!\n",
    "- Worst case: nobody listens\n",
    "- Best case: the right people  \n",
    "  notice and advertise your work"
   ]
  },
  {
   "cell_type": "markdown",
   "metadata": {
    "slideshow": {
     "slide_type": "subslide"
    }
   },
   "source": [
    "## Citations\n",
    "\n",
    "- Include a `CITATION` file in your project\n",
    "- If not yet published, get consensus on what's needed for a \"software paper\"\n",
    "    - See JOSS and JORS for checklists\n",
    "    - Very straightforward if your project is already in good shape\n",
    "- Continue to plan for future papers"
   ]
  },
  {
   "cell_type": "markdown",
   "metadata": {
    "slideshow": {
     "slide_type": "subslide"
    }
   },
   "source": [
    "## Add citation info to your project\n",
    "\n",
    "- asdf"
   ]
  },
  {
   "cell_type": "markdown",
   "metadata": {
    "slideshow": {
     "slide_type": "slide"
    }
   },
   "source": [
    "# Conclusion"
   ]
  },
  {
   "cell_type": "markdown",
   "metadata": {
    "slideshow": {
     "slide_type": "subslide"
    }
   },
   "source": [
    "## Reflection\n",
    "\n",
    "1. What was the most useful or interesting thing you learned in this class?\n",
    "2. What was the least useful or interesting?\n",
    "3. What didn’t make sense?\n",
    "4. What don’t you believe?\n",
    "5. What are the next three things you are going to do?"
   ]
  }
 ],
 "metadata": {
  "celltoolbar": "Slideshow",
  "kernelspec": {
   "display_name": "Python 3",
   "language": "python",
   "name": "python3"
  },
  "language_info": {
   "codemirror_mode": {
    "name": "ipython",
    "version": 3
   },
   "file_extension": ".py",
   "mimetype": "text/x-python",
   "name": "python",
   "nbconvert_exporter": "python",
   "pygments_lexer": "ipython3",
   "version": "3.5.2"
  }
 },
 "nbformat": 4,
 "nbformat_minor": 2
}
