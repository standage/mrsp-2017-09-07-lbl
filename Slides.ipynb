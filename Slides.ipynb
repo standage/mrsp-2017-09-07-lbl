{
 "cells": [
  {
   "cell_type": "markdown",
   "metadata": {
    "slideshow": {
     "slide_type": "slide"
    }
   },
   "source": [
    "# Introduction"
   ]
  },
  {
   "cell_type": "markdown",
   "metadata": {
    "slideshow": {
     "slide_type": "subslide"
    }
   },
   "source": [
    "## Science becoming increasingly computational\n",
    "\n",
    "- Modeling\n",
    "- Simulation\n",
    "- Data analysis\n",
    "- Data management"
   ]
  },
  {
   "cell_type": "markdown",
   "metadata": {
    "slideshow": {
     "slide_type": "subslide"
    }
   },
   "source": [
    "## Research software is more than just code\n",
    "\n",
    "<img src=\"fig/research-software.png\" alt=\"Research software\" style=\"width: 12em; float: right;\" />\n",
    "\n",
    "- Data\n",
    "- Organization\n",
    "- Communication\n",
    "- Process"
   ]
  },
  {
   "cell_type": "markdown",
   "metadata": {
    "slideshow": {
     "slide_type": "subslide"
    }
   },
   "source": [
    "## Key features of research software projects\n",
    "\n",
    "<center><img src=\"fig/softwaredevelopment.jpg\" alt=\"Pair programming\" style=\"width: 12em; margin: 1em auto 0 auto\" /></center>\n",
    "\n",
    "- Developers (scientists first, THEN programmers)\n",
    "- Problems (subtle, complicated, important)\n",
    "- Requirements (exploring vs. engineering)"
   ]
  },
  {
   "cell_type": "markdown",
   "metadata": {
    "slideshow": {
     "slide_type": "subslide"
    }
   },
   "source": [
    "## End game\n",
    "\n",
    "- Software can be used by others\n",
    "- Reasonable confidence in accuracy\n",
    "- Small changes and extensions are safe and easy\n",
    "- Fast enough to be useful\n",
    "- Sustainable (during its lifecycle)\n",
    "- Citable"
   ]
  },
  {
   "cell_type": "markdown",
   "metadata": {
    "slideshow": {
     "slide_type": "subslide"
    }
   },
   "source": [
    "## What is your project's value proposition?\n",
    "\n",
    "Fill in the template below for your current project.\n",
    "\n",
    "1. For *[description of target users]*\n",
    "2. who want to *[statement of their need(s)]*,\n",
    "3. *[project name]*\n",
    "4. provides *[statement of key benefits]*.\n",
    "5. Unlike *[name of alternative solutions(s)]*,\n",
    "6. our project enables users to *[key differentiator]*."
   ]
  },
  {
   "cell_type": "markdown",
   "metadata": {
    "slideshow": {
     "slide_type": "subslide"
    }
   },
   "source": [
    "## Describe how your project is managed\n",
    "\n",
    "Write a short point-form description (5-6 bullets) of how your current project is managed:\n",
    "\n",
    "1. Who uses the software?\n",
    "2. How?\n",
    "3. How do they find the software?\n",
    "4. How do they set it up?\n",
    "5. Who decides what to change and when?\n",
    "6. How are decisions and changes circulated?"
   ]
  },
  {
   "cell_type": "markdown",
   "metadata": {
    "slideshow": {
     "slide_type": "slide"
    }
   },
   "source": [
    "# Basics"
   ]
  },
  {
   "cell_type": "markdown",
   "metadata": {
    "slideshow": {
     "slide_type": "subslide"
    }
   },
   "source": [
    "## Project organization\n",
    "\n",
    "<img src=\"fig/noble.png\" alt=\"Research software\" style=\"width: 12em; float: right;\" />\n",
    "\n",
    "- It's like a diet\n",
    "- An example: \"Noble's Rules\"  \n",
    "  ([Noble 2009, *PLOS Comp. Bio.*](http://journals.plos.org/ploscompbiol/article?id=10.1371/journal.pcbi.1000424))\n",
    "- Details not important,  \n",
    "  but principles are"
   ]
  },
  {
   "cell_type": "markdown",
   "metadata": {
    "slideshow": {
     "slide_type": "subslide"
    }
   },
   "source": [
    "## Project organization (cont.)\n",
    "\n",
    "- **<font color=\"red\">Name all files to reflect content and purpose</font>**\n",
    "- Use established conventions\n",
    "- But (deliberate) adaptations are fine"
   ]
  },
  {
   "cell_type": "markdown",
   "metadata": {
    "slideshow": {
     "slide_type": "subslide"
    }
   },
   "source": [
    "## Task management\n",
    "\n",
    "- DRY principle: don't repeat yourself\n",
    "  > *The only thing you can accomplish by typing something repeatedly is to get it wrong.*\n",
    "- Use an automated build manager\n",
    "- Use checklists for tasks you can't automate"
   ]
  },
  {
   "cell_type": "markdown",
   "metadata": {
    "slideshow": {
     "slide_type": "subslide"
    }
   },
   "source": [
    "## Build managers\n",
    "\n",
    "- GNU Make\n",
    "    - *The old standby*\n",
    "- CMake, automake/autoconf, SCons, etc.\n",
    "    - *\"New\" flavors*\n",
    "- rake, pydoit, SnakeMake, etc.\n",
    "    - *Language-specific*"
   ]
  },
  {
   "cell_type": "markdown",
   "metadata": {
    "slideshow": {
     "slide_type": "subslide"
    }
   },
   "source": [
    "## Build managers (cont)\n",
    "\n",
    "- Key feature: dependencies\n",
    "    - \"X depends on Y depends on Z\"\n",
    "    - Usually implemented using timestamps or hashes\n",
    "    - Tasks only re-executed when needed\n",
    "- Originally designed for compiling large programs\n",
    "- Can be adapted for aritrary workflows"
   ]
  },
  {
   "cell_type": "markdown",
   "metadata": {
    "slideshow": {
     "slide_type": "subslide"
    }
   },
   "source": [
    "## Checklists\n",
    "\n",
    "- \"Build file\" executed by humans\n",
    "- Keep in version control\n",
    "- Adapt over time as needed based on experience and feedback"
   ]
  },
  {
   "cell_type": "markdown",
   "metadata": {
    "slideshow": {
     "slide_type": "subslide"
    }
   },
   "source": [
    "## Create a task list\n",
    "\n",
    "1. If your project doesn’t use a build manager, what are the first few tasks you should automate?\n",
    "2. If your project already uses a build manager, what tasks are used most often?"
   ]
  },
  {
   "cell_type": "markdown",
   "metadata": {
    "slideshow": {
     "slide_type": "subslide"
    }
   },
   "source": [
    "## Create a setup checklist\n",
    "\n",
    "1. Write a short point-form checklist describing the things you do when setting up a new machine to do development on your project.\n",
    "2. How many of the steps in your checklist can be automated using shell scripts or other small programs?\n",
    "3. How will newcomers know if they have completed the steps in the checklist correctly?"
   ]
  },
  {
   "cell_type": "markdown",
   "metadata": {
    "slideshow": {
     "slide_type": "slide"
    }
   },
   "source": [
    "# Make the Software Robust"
   ]
  },
  {
   "cell_type": "markdown",
   "metadata": {
    "slideshow": {
     "slide_type": "subslide"
    }
   },
   "source": [
    "## Robust software\n",
    "\n",
    "*Robust* is the difference between \n",
    "\n",
    "> *Works for me on my machine.*\n",
    "\n",
    "and \n",
    "\n",
    "> *Works for someone I've never met on a cluster I've never heard of.*"
   ]
  },
  {
   "cell_type": "markdown",
   "metadata": {
    "slideshow": {
     "slide_type": "subslide"
    }
   },
   "source": [
    "## Taschuk's Rules\n",
    "\n",
    "See ([Taschuk & Wilson 2017, *PLOS Comp. Bio.*](http://journals.plos.org/ploscompbiol/article?id=10.1371/journal.pcbi.1005412))\n",
    "\n",
    "<center>Provide a descriptive README (synopsis, dependencies)</center>\n",
    "\n",
    "<center><img src=\"fig/khmer-readme.png\" alt=\"README in terminal and browser\" style=\"width: 24em\" /></center>"
   ]
  },
  {
   "cell_type": "markdown",
   "metadata": {
    "slideshow": {
     "slide_type": "subslide"
    }
   },
   "source": [
    "## Taschuk's Rules (cont.)\n",
    "\n",
    "<center>Provide a descriptive usage statement<br />Make common operations easy to configure</center>\n",
    "\n",
    "<center><img src=\"fig/canon-cli.png\" alt=\"CLI in terminal\" style=\"width: 16em\" /></center>"
   ]
  },
  {
   "cell_type": "markdown",
   "metadata": {
    "slideshow": {
     "slide_type": "subslide"
    }
   },
   "source": [
    "## Taschuk's Rules (cont.)\n",
    "\n",
    "- Use version control\n",
    "- Release stable versions w/ meaningful version number\n",
    "- Reuse existing software (whenever possible)\n",
    "- Use build tools & package managers for installation\n",
    "- Do not require special privileges\n",
    "- Eliminate fixed/absolute file paths\n",
    "- Include a small data set to test installation\n",
    "- Produce identical results given identical input"
   ]
  },
  {
   "cell_type": "markdown",
   "metadata": {
    "slideshow": {
     "slide_type": "subslide"
    }
   },
   "source": [
    "## How do you version now?\n",
    "\n",
    "1. How many different versions of your project are in use right now? How do you know?\n",
    "2. If a user has a problem, how will you and they find out which version of the software they have?"
   ]
  },
  {
   "cell_type": "markdown",
   "metadata": {
    "slideshow": {
     "slide_type": "subslide"
    }
   },
   "source": [
    "## Runtime configuration\n",
    "\n",
    "1. What options or parameters does your program use?\n",
    "2. Which ones are users most likely to set or change?\n",
    "3. How are these parameters set?"
   ]
  },
  {
   "cell_type": "markdown",
   "metadata": {
    "slideshow": {
     "slide_type": "slide"
    }
   },
   "source": [
    "# Issues and Action Items"
   ]
  },
  {
   "cell_type": "markdown",
   "metadata": {
    "slideshow": {
     "slide_type": "subslide"
    }
   },
   "source": [
    "## Issue trackers\n",
    "\n",
    "- Also called bug trackers\n",
    "- Shared \"to-do\" list to manage everything\n",
    "- Every task is recorded as a separate ticket"
   ]
  },
  {
   "cell_type": "markdown",
   "metadata": {
    "slideshow": {
     "slide_type": "subslide"
    }
   },
   "source": [
    "## Components of issues/tasks/tickets\n",
    "\n",
    "- Unique ID (auto-assigned)\n",
    "- Short desriptive summary (to aid browsing)\n",
    "- Tags / metadata (to aid searching)\n",
    "- Status\n",
    "- Owner (who's responsible)\n",
    "- Full description\n",
    "- Threaded discussion"
   ]
  },
  {
   "cell_type": "markdown",
   "metadata": {
    "slideshow": {
     "slide_type": "subslide"
    }
   },
   "source": [
    "<img src=\"fig/issue-thread-list.png\" alt=\"Issue thread list\" />"
   ]
  },
  {
   "cell_type": "markdown",
   "metadata": {
    "slideshow": {
     "slide_type": "subslide"
    }
   },
   "source": [
    "<img src=\"fig/issue-thread-short.png\" alt=\"Issue thread list\" />"
   ]
  },
  {
   "cell_type": "markdown",
   "metadata": {
    "slideshow": {
     "slide_type": "subslide"
    }
   },
   "source": [
    "<center><img src=\"fig/issue-thread-long.png\" alt=\"Issue thread list\" style=\"height: 18em\" /></center>"
   ]
  },
  {
   "cell_type": "markdown",
   "metadata": {
    "slideshow": {
     "slide_type": "subslide"
    }
   },
   "source": [
    "## Issue trackers (cont.)\n",
    "\n",
    "- Key utility: prioritization\n",
    "    - What has to be done right now? Soon? Later?\n",
    "- Key utility: documenting your work\n",
    "    - Think of it as a shared lab notebook.\n",
    "    - Full record of work done, along with relevant discussion, reasoning, etc.\n",
    "    - Everyone knows what everyone else is working on."
   ]
  },
  {
   "cell_type": "markdown",
   "metadata": {
    "slideshow": {
     "slide_type": "subslide"
    }
   },
   "source": [
    "## What's on *YOUR* list?\n",
    "\n",
    "1. What are the top 3 items on your project’s to-do list?\n",
    "2. How confident are you that your collaborators and users would agree with your selection?"
   ]
  },
  {
   "cell_type": "markdown",
   "metadata": {
    "slideshow": {
     "slide_type": "subslide"
    }
   },
   "source": [
    "## Issue lifecycle\n",
    "\n",
    "1. What states can your project’s issues be in?\n",
    "2. What state transitions are allowed? (“Any to any” is a common and acceptable answer.)\n",
    "3. Who decides when an issue can move from one state to another?"
   ]
  },
  {
   "cell_type": "markdown",
   "metadata": {
    "slideshow": {
     "slide_type": "slide"
    }
   },
   "source": [
    "# Licensing"
   ]
  },
  {
   "cell_type": "markdown",
   "metadata": {
    "slideshow": {
     "slide_type": "subslide"
    }
   },
   "source": [
    "## Licensing research software\n",
    "\n",
    "- Creative works automatically eligible for protection\n",
    "- Reusing creative works without a license is dangerous (infringement lawsuits)\n",
    "- Explicitly adding an license to your project signals how you wish to engage the wider research community."
   ]
  },
  {
   "cell_type": "markdown",
   "metadata": {
    "slideshow": {
     "slide_type": "subslide"
    }
   },
   "source": [
    "## Choose a license\n",
    "\n",
    "- Put a `LICENSE` or `LICENSE.txt` file in your repository\n",
    "- Use a common license, **don't write your own**\n",
    "    - MIT or BSD\n",
    "    - GPL\n",
    "    - Creative Commons (CC-0 or CC-BY)\n",
    "    - others from [Open Source Initiative](http://opensource.org/licenses)"
   ]
  },
  {
   "cell_type": "markdown",
   "metadata": {
    "slideshow": {
     "slide_type": "subslide"
    }
   },
   "source": [
    "## Licensing considerations\n",
    "\n",
    "- Do you want to license your project at all? Can you?\n",
    "- Do you require derivative works to have the same license? (fraught with unintended consequences)\n",
    "- Is your license compatible with the software your project depends on?"
   ]
  }
 ],
 "metadata": {
  "celltoolbar": "Slideshow",
  "kernelspec": {
   "display_name": "Python 3",
   "language": "python",
   "name": "python3"
  },
  "language_info": {
   "codemirror_mode": {
    "name": "ipython",
    "version": 3
   },
   "file_extension": ".py",
   "mimetype": "text/x-python",
   "name": "python",
   "nbconvert_exporter": "python",
   "pygments_lexer": "ipython3",
   "version": "3.5.2"
  }
 },
 "nbformat": 4,
 "nbformat_minor": 2
}
